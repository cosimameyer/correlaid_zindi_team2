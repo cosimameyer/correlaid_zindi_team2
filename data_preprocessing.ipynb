{
  "nbformat": 4,
  "nbformat_minor": 0,
  "metadata": {
    "colab": {
      "name": "data-preprocessing.ipynb",
      "provenance": [],
      "collapsed_sections": []
    },
    "kernelspec": {
      "name": "python3",
      "display_name": "Python 3"
    }
  },
  "cells": [
    {
      "cell_type": "markdown",
      "metadata": {
        "id": "ZUjlCaSU4ycH"
      },
      "source": [
        "# Data preprocessing for the Zindi/GIZ project"
      ]
    },
    {
      "cell_type": "markdown",
      "metadata": {
        "id": "M_iz5UZy44_Q"
      },
      "source": [
        "Mount Google drive\n",
        "\n"
      ]
    },
    {
      "cell_type": "code",
      "metadata": {
        "id": "nKd62wej44Vk"
      },
      "source": [
        "from google.colab import files"
      ],
      "execution_count": null,
      "outputs": []
    },
    {
      "cell_type": "code",
      "metadata": {
        "id": "xEjzhB0q4_LM",
        "outputId": "d6677ebc-04a6-4e1a-f69f-a1595951f068",
        "colab": {
          "base_uri": "https://localhost:8080/"
        }
      },
      "source": [
        "from google.colab import drive\n",
        "drive.mount(\"/content/drive\", force_remount=True)"
      ],
      "execution_count": null,
      "outputs": [
        {
          "output_type": "stream",
          "text": [
            "Mounted at /content/drive\n"
          ],
          "name": "stdout"
        }
      ]
    },
    {
      "cell_type": "markdown",
      "metadata": {
        "id": "08hjr_Si5UR1"
      },
      "source": [
        "Install and load libraries"
      ]
    },
    {
      "cell_type": "code",
      "metadata": {
        "id": "wLOD_2CR5V2C",
        "outputId": "a4383b76-90ff-471b-dfaa-a7a00698466d",
        "colab": {
          "base_uri": "https://localhost:8080/"
        }
      },
      "source": [
        "!pip install -q fastai fastcore --upgrade # Make sure we have the new version\n",
        "!pip install -q python_speech_features\n",
        "!pip install python_speech_features"
      ],
      "execution_count": null,
      "outputs": [
        {
          "output_type": "stream",
          "text": [
            "\u001b[K     |████████████████████████████████| 194kB 2.8MB/s \n",
            "\u001b[K     |████████████████████████████████| 51kB 4.3MB/s \n",
            "\u001b[K     |████████████████████████████████| 12.8MB 329kB/s \n",
            "\u001b[K     |████████████████████████████████| 776.7MB 22kB/s \n",
            "\u001b[?25h  Building wheel for python-speech-features (setup.py) ... \u001b[?25l\u001b[?25hdone\n",
            "Requirement already satisfied: python_speech_features in /usr/local/lib/python3.6/dist-packages (0.6)\n"
          ],
          "name": "stdout"
        }
      ]
    },
    {
      "cell_type": "code",
      "metadata": {
        "id": "a7RHlPwq5Z1-"
      },
      "source": [
        "import pandas as pd\n",
        "import IPython.display as ipd\n",
        "import librosa\n",
        "import python_speech_features as psf\n",
        "from matplotlib import pyplot as plt\n",
        "import numpy as np\n",
        "from os import listdir\n",
        "from os.path import isfile, join\n",
        "import os"
      ],
      "execution_count": null,
      "outputs": []
    },
    {
      "cell_type": "markdown",
      "metadata": {
        "id": "XKhOmUhj5Cpg"
      },
      "source": [
        "Read the data"
      ]
    },
    {
      "cell_type": "code",
      "metadata": {
        "id": "NcrNB4635A0j"
      },
      "source": [
        "# Copy the files in and unzip\n",
        "# !cp 'drive/My Drive/audio_files.zip' audio_files2.zip\n",
        "# !unzip -q audio_files2.zip"
      ],
      "execution_count": null,
      "outputs": []
    },
    {
      "cell_type": "markdown",
      "metadata": {
        "id": "FRLMbfqc7NgH"
      },
      "source": [
        "Load the new \"train_full.csv\" data"
      ]
    },
    {
      "cell_type": "code",
      "metadata": {
        "id": "Hx0i8b5X7MGD",
        "outputId": "a56ae15a-5015-4856-f378-29520574e528",
        "colab": {
          "base_uri": "https://localhost:8080/",
          "height": 204
        }
      },
      "source": [
        "train_full = pd.read_csv(\"/content/drive/My Drive/ZINDI/train_full.csv\")\n",
        "\n",
        "# Adjust name\n",
        "train_full['fn'] = train_full['fn'].str.replace('audio_train/', '/content/drive/My Drive/ZINDI/data/audio_train/')\n",
        "train_full['fn'] = train_full['fn'].str.replace('audio_files/', '/content/drive/My Drive/ZINDI/data/audio_train/')\n",
        "train_full.head()"
      ],
      "execution_count": null,
      "outputs": [
        {
          "output_type": "execute_result",
          "data": {
            "text/html": [
              "<div>\n",
              "<style scoped>\n",
              "    .dataframe tbody tr th:only-of-type {\n",
              "        vertical-align: middle;\n",
              "    }\n",
              "\n",
              "    .dataframe tbody tr th {\n",
              "        vertical-align: top;\n",
              "    }\n",
              "\n",
              "    .dataframe thead th {\n",
              "        text-align: right;\n",
              "    }\n",
              "</style>\n",
              "<table border=\"1\" class=\"dataframe\">\n",
              "  <thead>\n",
              "    <tr style=\"text-align: right;\">\n",
              "      <th></th>\n",
              "      <th>fn</th>\n",
              "      <th>label</th>\n",
              "    </tr>\n",
              "  </thead>\n",
              "  <tbody>\n",
              "    <tr>\n",
              "      <th>0</th>\n",
              "      <td>/content/drive/My Drive/ZINDI/data/audio_train...</td>\n",
              "      <td>akawuka</td>\n",
              "    </tr>\n",
              "    <tr>\n",
              "      <th>1</th>\n",
              "      <td>/content/drive/My Drive/ZINDI/data/audio_train...</td>\n",
              "      <td>banana</td>\n",
              "    </tr>\n",
              "    <tr>\n",
              "      <th>2</th>\n",
              "      <td>/content/drive/My Drive/ZINDI/data/audio_train...</td>\n",
              "      <td>obulwadde</td>\n",
              "    </tr>\n",
              "    <tr>\n",
              "      <th>3</th>\n",
              "      <td>/content/drive/My Drive/ZINDI/data/audio_train...</td>\n",
              "      <td>nnyaanya</td>\n",
              "    </tr>\n",
              "    <tr>\n",
              "      <th>4</th>\n",
              "      <td>/content/drive/My Drive/ZINDI/data/audio_train...</td>\n",
              "      <td>pampu</td>\n",
              "    </tr>\n",
              "  </tbody>\n",
              "</table>\n",
              "</div>"
            ],
            "text/plain": [
              "                                                  fn      label\n",
              "0  /content/drive/My Drive/ZINDI/data/audio_train...    akawuka\n",
              "1  /content/drive/My Drive/ZINDI/data/audio_train...     banana\n",
              "2  /content/drive/My Drive/ZINDI/data/audio_train...  obulwadde\n",
              "3  /content/drive/My Drive/ZINDI/data/audio_train...   nnyaanya\n",
              "4  /content/drive/My Drive/ZINDI/data/audio_train...      pampu"
            ]
          },
          "metadata": {
            "tags": []
          },
          "execution_count": 10
        }
      ]
    },
    {
      "cell_type": "markdown",
      "metadata": {
        "id": "N6CtdEEJ5cpq"
      },
      "source": [
        "Load the old train data"
      ]
    },
    {
      "cell_type": "code",
      "metadata": {
        "id": "IK7FlPoW5ca7",
        "outputId": "8d7d718b-15f6-4331-e7b9-36f43f848f71",
        "colab": {
          "base_uri": "https://localhost:8080/",
          "height": 204
        }
      },
      "source": [
        "train1 = pd.read_csv(\"/content/drive/My Drive/ZINDI/Train.csv\")\n",
        "\n",
        "# Adjust name\n",
        "train1['fn'] = train1['fn'].str.replace('audio_files/', '/content/drive/My Drive/ZINDI/data/audio_train/')\n",
        "train1.head()"
      ],
      "execution_count": null,
      "outputs": [
        {
          "output_type": "execute_result",
          "data": {
            "text/html": [
              "<div>\n",
              "<style scoped>\n",
              "    .dataframe tbody tr th:only-of-type {\n",
              "        vertical-align: middle;\n",
              "    }\n",
              "\n",
              "    .dataframe tbody tr th {\n",
              "        vertical-align: top;\n",
              "    }\n",
              "\n",
              "    .dataframe thead th {\n",
              "        text-align: right;\n",
              "    }\n",
              "</style>\n",
              "<table border=\"1\" class=\"dataframe\">\n",
              "  <thead>\n",
              "    <tr style=\"text-align: right;\">\n",
              "      <th></th>\n",
              "      <th>fn</th>\n",
              "      <th>label</th>\n",
              "    </tr>\n",
              "  </thead>\n",
              "  <tbody>\n",
              "    <tr>\n",
              "      <th>0</th>\n",
              "      <td>/content/drive/My Drive/ZINDI/data/audio_train...</td>\n",
              "      <td>akawuka</td>\n",
              "    </tr>\n",
              "    <tr>\n",
              "      <th>1</th>\n",
              "      <td>/content/drive/My Drive/ZINDI/data/audio_train...</td>\n",
              "      <td>banana</td>\n",
              "    </tr>\n",
              "    <tr>\n",
              "      <th>2</th>\n",
              "      <td>/content/drive/My Drive/ZINDI/data/audio_train...</td>\n",
              "      <td>obulwadde</td>\n",
              "    </tr>\n",
              "    <tr>\n",
              "      <th>3</th>\n",
              "      <td>/content/drive/My Drive/ZINDI/data/audio_train...</td>\n",
              "      <td>nnyaanya</td>\n",
              "    </tr>\n",
              "    <tr>\n",
              "      <th>4</th>\n",
              "      <td>/content/drive/My Drive/ZINDI/data/audio_train...</td>\n",
              "      <td>pampu</td>\n",
              "    </tr>\n",
              "  </tbody>\n",
              "</table>\n",
              "</div>"
            ],
            "text/plain": [
              "                                                  fn      label\n",
              "0  /content/drive/My Drive/ZINDI/data/audio_train...    akawuka\n",
              "1  /content/drive/My Drive/ZINDI/data/audio_train...     banana\n",
              "2  /content/drive/My Drive/ZINDI/data/audio_train...  obulwadde\n",
              "3  /content/drive/My Drive/ZINDI/data/audio_train...   nnyaanya\n",
              "4  /content/drive/My Drive/ZINDI/data/audio_train...      pampu"
            ]
          },
          "metadata": {
            "tags": []
          },
          "execution_count": 11
        }
      ]
    },
    {
      "cell_type": "markdown",
      "metadata": {
        "id": "q1BLnquH5jaV"
      },
      "source": [
        "Add the new train data"
      ]
    },
    {
      "cell_type": "code",
      "metadata": {
        "id": "4kQrEHxd5k6Q",
        "outputId": "57b52b4d-fd48-4f41-93be-43a478dd9a0e",
        "colab": {
          "base_uri": "https://localhost:8080/",
          "height": 204
        }
      },
      "source": [
        "train2 = pd.read_csv('/content/drive/My Drive/ZINDI/labels_new.csv')\n",
        "train2.head(20)\n",
        "\n",
        "# Adjust name\n",
        "train2['fn'] = train2['fn'].str.replace('audio_files2/', '/content/drive/My Drive/ZINDI/data/audio_train/')\n",
        "train2.head()"
      ],
      "execution_count": null,
      "outputs": [
        {
          "output_type": "execute_result",
          "data": {
            "text/html": [
              "<div>\n",
              "<style scoped>\n",
              "    .dataframe tbody tr th:only-of-type {\n",
              "        vertical-align: middle;\n",
              "    }\n",
              "\n",
              "    .dataframe tbody tr th {\n",
              "        vertical-align: top;\n",
              "    }\n",
              "\n",
              "    .dataframe thead th {\n",
              "        text-align: right;\n",
              "    }\n",
              "</style>\n",
              "<table border=\"1\" class=\"dataframe\">\n",
              "  <thead>\n",
              "    <tr style=\"text-align: right;\">\n",
              "      <th></th>\n",
              "      <th>fn</th>\n",
              "      <th>label</th>\n",
              "    </tr>\n",
              "  </thead>\n",
              "  <tbody>\n",
              "    <tr>\n",
              "      <th>0</th>\n",
              "      <td>/content/drive/My Drive/ZINDI/data/audio_train...</td>\n",
              "      <td>abalimi</td>\n",
              "    </tr>\n",
              "    <tr>\n",
              "      <th>1</th>\n",
              "      <td>/content/drive/My Drive/ZINDI/data/audio_train...</td>\n",
              "      <td>abalimi</td>\n",
              "    </tr>\n",
              "    <tr>\n",
              "      <th>2</th>\n",
              "      <td>/content/drive/My Drive/ZINDI/data/audio_train...</td>\n",
              "      <td>abalimi</td>\n",
              "    </tr>\n",
              "    <tr>\n",
              "      <th>3</th>\n",
              "      <td>/content/drive/My Drive/ZINDI/data/audio_train...</td>\n",
              "      <td>abalimi</td>\n",
              "    </tr>\n",
              "    <tr>\n",
              "      <th>4</th>\n",
              "      <td>/content/drive/My Drive/ZINDI/data/audio_train...</td>\n",
              "      <td>abalimi</td>\n",
              "    </tr>\n",
              "  </tbody>\n",
              "</table>\n",
              "</div>"
            ],
            "text/plain": [
              "                                                  fn    label\n",
              "0  /content/drive/My Drive/ZINDI/data/audio_train...  abalimi\n",
              "1  /content/drive/My Drive/ZINDI/data/audio_train...  abalimi\n",
              "2  /content/drive/My Drive/ZINDI/data/audio_train...  abalimi\n",
              "3  /content/drive/My Drive/ZINDI/data/audio_train...  abalimi\n",
              "4  /content/drive/My Drive/ZINDI/data/audio_train...  abalimi"
            ]
          },
          "metadata": {
            "tags": []
          },
          "execution_count": 13
        }
      ]
    },
    {
      "cell_type": "markdown",
      "metadata": {
        "id": "YjiU-i-M2Iep"
      },
      "source": [
        "Combine both"
      ]
    },
    {
      "cell_type": "code",
      "metadata": {
        "id": "Bo0nS2Pw2J1c",
        "outputId": "778390eb-2a52-423f-fa49-2bc59a4a5229",
        "colab": {
          "base_uri": "https://localhost:8080/",
          "height": 204
        }
      },
      "source": [
        "train = train1.append(train2)\n",
        "train.head()"
      ],
      "execution_count": null,
      "outputs": [
        {
          "output_type": "execute_result",
          "data": {
            "text/html": [
              "<div>\n",
              "<style scoped>\n",
              "    .dataframe tbody tr th:only-of-type {\n",
              "        vertical-align: middle;\n",
              "    }\n",
              "\n",
              "    .dataframe tbody tr th {\n",
              "        vertical-align: top;\n",
              "    }\n",
              "\n",
              "    .dataframe thead th {\n",
              "        text-align: right;\n",
              "    }\n",
              "</style>\n",
              "<table border=\"1\" class=\"dataframe\">\n",
              "  <thead>\n",
              "    <tr style=\"text-align: right;\">\n",
              "      <th></th>\n",
              "      <th>fn</th>\n",
              "      <th>label</th>\n",
              "    </tr>\n",
              "  </thead>\n",
              "  <tbody>\n",
              "    <tr>\n",
              "      <th>0</th>\n",
              "      <td>/content/drive/My Drive/ZINDI/data/audio_train...</td>\n",
              "      <td>akawuka</td>\n",
              "    </tr>\n",
              "    <tr>\n",
              "      <th>1</th>\n",
              "      <td>/content/drive/My Drive/ZINDI/data/audio_train...</td>\n",
              "      <td>banana</td>\n",
              "    </tr>\n",
              "    <tr>\n",
              "      <th>2</th>\n",
              "      <td>/content/drive/My Drive/ZINDI/data/audio_train...</td>\n",
              "      <td>obulwadde</td>\n",
              "    </tr>\n",
              "    <tr>\n",
              "      <th>3</th>\n",
              "      <td>/content/drive/My Drive/ZINDI/data/audio_train...</td>\n",
              "      <td>nnyaanya</td>\n",
              "    </tr>\n",
              "    <tr>\n",
              "      <th>4</th>\n",
              "      <td>/content/drive/My Drive/ZINDI/data/audio_train...</td>\n",
              "      <td>pampu</td>\n",
              "    </tr>\n",
              "  </tbody>\n",
              "</table>\n",
              "</div>"
            ],
            "text/plain": [
              "                                                  fn      label\n",
              "0  /content/drive/My Drive/ZINDI/data/audio_train...    akawuka\n",
              "1  /content/drive/My Drive/ZINDI/data/audio_train...     banana\n",
              "2  /content/drive/My Drive/ZINDI/data/audio_train...  obulwadde\n",
              "3  /content/drive/My Drive/ZINDI/data/audio_train...   nnyaanya\n",
              "4  /content/drive/My Drive/ZINDI/data/audio_train...      pampu"
            ]
          },
          "metadata": {
            "tags": []
          },
          "execution_count": 14
        }
      ]
    },
    {
      "cell_type": "markdown",
      "metadata": {
        "id": "Ct30b5MQ5oI9"
      },
      "source": [
        "Load the test data"
      ]
    },
    {
      "cell_type": "code",
      "metadata": {
        "id": "OBqHkvj65pNC",
        "outputId": "a5e67655-66d6-4cd9-e9cd-d1eb662cea54",
        "colab": {
          "base_uri": "https://localhost:8080/",
          "height": 372
        }
      },
      "source": [
        "test = pd.read_csv('/content/drive/My Drive/ZINDI/SampleSubmission.csv')\n",
        "test.head()\n",
        "\n",
        "# Adjust name\n",
        "test['fn'] = test['fn'].str.replace('audio_files/', '/content/drive/My Drive/ZINDI/data/audio_test/')\n",
        "test.head()"
      ],
      "execution_count": null,
      "outputs": [
        {
          "output_type": "execute_result",
          "data": {
            "text/html": [
              "<div>\n",
              "<style scoped>\n",
              "    .dataframe tbody tr th:only-of-type {\n",
              "        vertical-align: middle;\n",
              "    }\n",
              "\n",
              "    .dataframe tbody tr th {\n",
              "        vertical-align: top;\n",
              "    }\n",
              "\n",
              "    .dataframe thead th {\n",
              "        text-align: right;\n",
              "    }\n",
              "</style>\n",
              "<table border=\"1\" class=\"dataframe\">\n",
              "  <thead>\n",
              "    <tr style=\"text-align: right;\">\n",
              "      <th></th>\n",
              "      <th>fn</th>\n",
              "      <th>maize streak virus</th>\n",
              "      <th>disease</th>\n",
              "      <th>okukkoola</th>\n",
              "      <th>muwogo</th>\n",
              "      <th>mpeke</th>\n",
              "      <th>mucungwa</th>\n",
              "      <th>greens</th>\n",
              "      <th>garden</th>\n",
              "      <th>mango</th>\n",
              "      <th>bulimi</th>\n",
              "      <th>obuwuka</th>\n",
              "      <th>ebikoola</th>\n",
              "      <th>obulimi</th>\n",
              "      <th>ebisoolisooli</th>\n",
              "      <th>kaamulali</th>\n",
              "      <th>eddagala</th>\n",
              "      <th>beans</th>\n",
              "      <th>omuyembe</th>\n",
              "      <th>leaf</th>\n",
              "      <th>kisaanyi</th>\n",
              "      <th>leaves</th>\n",
              "      <th>butterfly</th>\n",
              "      <th>okuzifuuyira</th>\n",
              "      <th>micungwa</th>\n",
              "      <th>ppaapaali</th>\n",
              "      <th>emboga</th>\n",
              "      <th>kikolo</th>\n",
              "      <th>harvest</th>\n",
              "      <th>olusuku</th>\n",
              "      <th>coffee</th>\n",
              "      <th>super grow</th>\n",
              "      <th>rice</th>\n",
              "      <th>ensujju</th>\n",
              "      <th>okulima</th>\n",
              "      <th>worm</th>\n",
              "      <th>ebbugga</th>\n",
              "      <th>onion</th>\n",
              "      <th>ensigo</th>\n",
              "      <th>plantation</th>\n",
              "      <th>...</th>\n",
              "      <th>ejjobyo</th>\n",
              "      <th>omulimi</th>\n",
              "      <th>okusimba</th>\n",
              "      <th>sweet potatoes</th>\n",
              "      <th>okufuuyira</th>\n",
              "      <th>farming instructor</th>\n",
              "      <th>nnasale beedi</th>\n",
              "      <th>passion fruit</th>\n",
              "      <th>ekitooke</th>\n",
              "      <th>ebisaanyi</th>\n",
              "      <th>ekyeya</th>\n",
              "      <th>enva endiirwa</th>\n",
              "      <th>emisiri</th>\n",
              "      <th>emiyembe</th>\n",
              "      <th>amatooke</th>\n",
              "      <th>ebiwuka</th>\n",
              "      <th>farm</th>\n",
              "      <th>ebinyebwa</th>\n",
              "      <th>amappapaali</th>\n",
              "      <th>ebimera</th>\n",
              "      <th>kassooli</th>\n",
              "      <th>harvesting</th>\n",
              "      <th>emmwanyi</th>\n",
              "      <th>akamonde</th>\n",
              "      <th>obumonde</th>\n",
              "      <th>cabbages</th>\n",
              "      <th>akasaanyi</th>\n",
              "      <th>spread</th>\n",
              "      <th>ebirime</th>\n",
              "      <th>drought</th>\n",
              "      <th>kasaanyi</th>\n",
              "      <th>suckers</th>\n",
              "      <th>insects</th>\n",
              "      <th>fertilizer</th>\n",
              "      <th>nakavundira</th>\n",
              "      <th>ekiwojjolo</th>\n",
              "      <th>akawuka</th>\n",
              "      <th>ddagala</th>\n",
              "      <th>ebiwojjolo</th>\n",
              "      <th>obutungulu</th>\n",
              "    </tr>\n",
              "  </thead>\n",
              "  <tbody>\n",
              "    <tr>\n",
              "      <th>0</th>\n",
              "      <td>/content/drive/My Drive/ZINDI/data/audio_test/...</td>\n",
              "      <td>0</td>\n",
              "      <td>0</td>\n",
              "      <td>0</td>\n",
              "      <td>0</td>\n",
              "      <td>0</td>\n",
              "      <td>0</td>\n",
              "      <td>0</td>\n",
              "      <td>0</td>\n",
              "      <td>0</td>\n",
              "      <td>0</td>\n",
              "      <td>0</td>\n",
              "      <td>0</td>\n",
              "      <td>0</td>\n",
              "      <td>0</td>\n",
              "      <td>0</td>\n",
              "      <td>0</td>\n",
              "      <td>0</td>\n",
              "      <td>0</td>\n",
              "      <td>0</td>\n",
              "      <td>0</td>\n",
              "      <td>0</td>\n",
              "      <td>0</td>\n",
              "      <td>0</td>\n",
              "      <td>0</td>\n",
              "      <td>0</td>\n",
              "      <td>0</td>\n",
              "      <td>0</td>\n",
              "      <td>0</td>\n",
              "      <td>0</td>\n",
              "      <td>0</td>\n",
              "      <td>0</td>\n",
              "      <td>0</td>\n",
              "      <td>0</td>\n",
              "      <td>0</td>\n",
              "      <td>0</td>\n",
              "      <td>0</td>\n",
              "      <td>0</td>\n",
              "      <td>0</td>\n",
              "      <td>0</td>\n",
              "      <td>...</td>\n",
              "      <td>0</td>\n",
              "      <td>0</td>\n",
              "      <td>0</td>\n",
              "      <td>0</td>\n",
              "      <td>0</td>\n",
              "      <td>0</td>\n",
              "      <td>0</td>\n",
              "      <td>0</td>\n",
              "      <td>0</td>\n",
              "      <td>0</td>\n",
              "      <td>0</td>\n",
              "      <td>0</td>\n",
              "      <td>0</td>\n",
              "      <td>0</td>\n",
              "      <td>0</td>\n",
              "      <td>0</td>\n",
              "      <td>0</td>\n",
              "      <td>0</td>\n",
              "      <td>0</td>\n",
              "      <td>0</td>\n",
              "      <td>0</td>\n",
              "      <td>0</td>\n",
              "      <td>0</td>\n",
              "      <td>0</td>\n",
              "      <td>0</td>\n",
              "      <td>0</td>\n",
              "      <td>0</td>\n",
              "      <td>0</td>\n",
              "      <td>0</td>\n",
              "      <td>0</td>\n",
              "      <td>0</td>\n",
              "      <td>0</td>\n",
              "      <td>0</td>\n",
              "      <td>0</td>\n",
              "      <td>0</td>\n",
              "      <td>0</td>\n",
              "      <td>0</td>\n",
              "      <td>0</td>\n",
              "      <td>0</td>\n",
              "      <td>0</td>\n",
              "    </tr>\n",
              "    <tr>\n",
              "      <th>1</th>\n",
              "      <td>/content/drive/My Drive/ZINDI/data/audio_test/...</td>\n",
              "      <td>0</td>\n",
              "      <td>0</td>\n",
              "      <td>0</td>\n",
              "      <td>0</td>\n",
              "      <td>0</td>\n",
              "      <td>0</td>\n",
              "      <td>0</td>\n",
              "      <td>0</td>\n",
              "      <td>0</td>\n",
              "      <td>0</td>\n",
              "      <td>0</td>\n",
              "      <td>0</td>\n",
              "      <td>0</td>\n",
              "      <td>0</td>\n",
              "      <td>0</td>\n",
              "      <td>0</td>\n",
              "      <td>0</td>\n",
              "      <td>0</td>\n",
              "      <td>0</td>\n",
              "      <td>0</td>\n",
              "      <td>0</td>\n",
              "      <td>0</td>\n",
              "      <td>0</td>\n",
              "      <td>0</td>\n",
              "      <td>0</td>\n",
              "      <td>0</td>\n",
              "      <td>0</td>\n",
              "      <td>0</td>\n",
              "      <td>0</td>\n",
              "      <td>0</td>\n",
              "      <td>0</td>\n",
              "      <td>0</td>\n",
              "      <td>0</td>\n",
              "      <td>0</td>\n",
              "      <td>0</td>\n",
              "      <td>0</td>\n",
              "      <td>0</td>\n",
              "      <td>0</td>\n",
              "      <td>0</td>\n",
              "      <td>...</td>\n",
              "      <td>0</td>\n",
              "      <td>0</td>\n",
              "      <td>0</td>\n",
              "      <td>0</td>\n",
              "      <td>0</td>\n",
              "      <td>0</td>\n",
              "      <td>0</td>\n",
              "      <td>0</td>\n",
              "      <td>0</td>\n",
              "      <td>0</td>\n",
              "      <td>0</td>\n",
              "      <td>0</td>\n",
              "      <td>0</td>\n",
              "      <td>0</td>\n",
              "      <td>0</td>\n",
              "      <td>0</td>\n",
              "      <td>0</td>\n",
              "      <td>0</td>\n",
              "      <td>0</td>\n",
              "      <td>0</td>\n",
              "      <td>0</td>\n",
              "      <td>0</td>\n",
              "      <td>0</td>\n",
              "      <td>0</td>\n",
              "      <td>0</td>\n",
              "      <td>0</td>\n",
              "      <td>0</td>\n",
              "      <td>0</td>\n",
              "      <td>0</td>\n",
              "      <td>0</td>\n",
              "      <td>0</td>\n",
              "      <td>0</td>\n",
              "      <td>0</td>\n",
              "      <td>0</td>\n",
              "      <td>0</td>\n",
              "      <td>0</td>\n",
              "      <td>0</td>\n",
              "      <td>0</td>\n",
              "      <td>0</td>\n",
              "      <td>0</td>\n",
              "    </tr>\n",
              "    <tr>\n",
              "      <th>2</th>\n",
              "      <td>/content/drive/My Drive/ZINDI/data/audio_test/...</td>\n",
              "      <td>0</td>\n",
              "      <td>0</td>\n",
              "      <td>0</td>\n",
              "      <td>0</td>\n",
              "      <td>0</td>\n",
              "      <td>0</td>\n",
              "      <td>0</td>\n",
              "      <td>0</td>\n",
              "      <td>0</td>\n",
              "      <td>0</td>\n",
              "      <td>0</td>\n",
              "      <td>0</td>\n",
              "      <td>0</td>\n",
              "      <td>0</td>\n",
              "      <td>0</td>\n",
              "      <td>0</td>\n",
              "      <td>0</td>\n",
              "      <td>0</td>\n",
              "      <td>0</td>\n",
              "      <td>0</td>\n",
              "      <td>0</td>\n",
              "      <td>0</td>\n",
              "      <td>0</td>\n",
              "      <td>0</td>\n",
              "      <td>0</td>\n",
              "      <td>0</td>\n",
              "      <td>0</td>\n",
              "      <td>0</td>\n",
              "      <td>0</td>\n",
              "      <td>0</td>\n",
              "      <td>0</td>\n",
              "      <td>0</td>\n",
              "      <td>0</td>\n",
              "      <td>0</td>\n",
              "      <td>0</td>\n",
              "      <td>0</td>\n",
              "      <td>0</td>\n",
              "      <td>0</td>\n",
              "      <td>0</td>\n",
              "      <td>...</td>\n",
              "      <td>0</td>\n",
              "      <td>0</td>\n",
              "      <td>0</td>\n",
              "      <td>0</td>\n",
              "      <td>0</td>\n",
              "      <td>0</td>\n",
              "      <td>0</td>\n",
              "      <td>0</td>\n",
              "      <td>0</td>\n",
              "      <td>0</td>\n",
              "      <td>0</td>\n",
              "      <td>0</td>\n",
              "      <td>0</td>\n",
              "      <td>0</td>\n",
              "      <td>0</td>\n",
              "      <td>0</td>\n",
              "      <td>0</td>\n",
              "      <td>0</td>\n",
              "      <td>0</td>\n",
              "      <td>0</td>\n",
              "      <td>0</td>\n",
              "      <td>0</td>\n",
              "      <td>0</td>\n",
              "      <td>0</td>\n",
              "      <td>0</td>\n",
              "      <td>0</td>\n",
              "      <td>0</td>\n",
              "      <td>0</td>\n",
              "      <td>0</td>\n",
              "      <td>0</td>\n",
              "      <td>0</td>\n",
              "      <td>0</td>\n",
              "      <td>0</td>\n",
              "      <td>0</td>\n",
              "      <td>0</td>\n",
              "      <td>0</td>\n",
              "      <td>0</td>\n",
              "      <td>0</td>\n",
              "      <td>0</td>\n",
              "      <td>0</td>\n",
              "    </tr>\n",
              "    <tr>\n",
              "      <th>3</th>\n",
              "      <td>/content/drive/My Drive/ZINDI/data/audio_test/...</td>\n",
              "      <td>0</td>\n",
              "      <td>0</td>\n",
              "      <td>0</td>\n",
              "      <td>0</td>\n",
              "      <td>0</td>\n",
              "      <td>0</td>\n",
              "      <td>0</td>\n",
              "      <td>0</td>\n",
              "      <td>0</td>\n",
              "      <td>0</td>\n",
              "      <td>0</td>\n",
              "      <td>0</td>\n",
              "      <td>0</td>\n",
              "      <td>0</td>\n",
              "      <td>0</td>\n",
              "      <td>0</td>\n",
              "      <td>0</td>\n",
              "      <td>0</td>\n",
              "      <td>0</td>\n",
              "      <td>0</td>\n",
              "      <td>0</td>\n",
              "      <td>0</td>\n",
              "      <td>0</td>\n",
              "      <td>0</td>\n",
              "      <td>0</td>\n",
              "      <td>0</td>\n",
              "      <td>0</td>\n",
              "      <td>0</td>\n",
              "      <td>0</td>\n",
              "      <td>0</td>\n",
              "      <td>0</td>\n",
              "      <td>0</td>\n",
              "      <td>0</td>\n",
              "      <td>0</td>\n",
              "      <td>0</td>\n",
              "      <td>0</td>\n",
              "      <td>0</td>\n",
              "      <td>0</td>\n",
              "      <td>0</td>\n",
              "      <td>...</td>\n",
              "      <td>0</td>\n",
              "      <td>0</td>\n",
              "      <td>0</td>\n",
              "      <td>0</td>\n",
              "      <td>0</td>\n",
              "      <td>0</td>\n",
              "      <td>0</td>\n",
              "      <td>0</td>\n",
              "      <td>0</td>\n",
              "      <td>0</td>\n",
              "      <td>0</td>\n",
              "      <td>0</td>\n",
              "      <td>0</td>\n",
              "      <td>0</td>\n",
              "      <td>0</td>\n",
              "      <td>0</td>\n",
              "      <td>0</td>\n",
              "      <td>0</td>\n",
              "      <td>0</td>\n",
              "      <td>0</td>\n",
              "      <td>0</td>\n",
              "      <td>0</td>\n",
              "      <td>0</td>\n",
              "      <td>0</td>\n",
              "      <td>0</td>\n",
              "      <td>0</td>\n",
              "      <td>0</td>\n",
              "      <td>0</td>\n",
              "      <td>0</td>\n",
              "      <td>0</td>\n",
              "      <td>0</td>\n",
              "      <td>0</td>\n",
              "      <td>0</td>\n",
              "      <td>0</td>\n",
              "      <td>0</td>\n",
              "      <td>0</td>\n",
              "      <td>0</td>\n",
              "      <td>0</td>\n",
              "      <td>0</td>\n",
              "      <td>0</td>\n",
              "    </tr>\n",
              "    <tr>\n",
              "      <th>4</th>\n",
              "      <td>/content/drive/My Drive/ZINDI/data/audio_test/...</td>\n",
              "      <td>0</td>\n",
              "      <td>0</td>\n",
              "      <td>0</td>\n",
              "      <td>0</td>\n",
              "      <td>0</td>\n",
              "      <td>0</td>\n",
              "      <td>0</td>\n",
              "      <td>0</td>\n",
              "      <td>0</td>\n",
              "      <td>0</td>\n",
              "      <td>0</td>\n",
              "      <td>0</td>\n",
              "      <td>0</td>\n",
              "      <td>0</td>\n",
              "      <td>0</td>\n",
              "      <td>0</td>\n",
              "      <td>0</td>\n",
              "      <td>0</td>\n",
              "      <td>0</td>\n",
              "      <td>0</td>\n",
              "      <td>0</td>\n",
              "      <td>0</td>\n",
              "      <td>0</td>\n",
              "      <td>0</td>\n",
              "      <td>0</td>\n",
              "      <td>0</td>\n",
              "      <td>0</td>\n",
              "      <td>0</td>\n",
              "      <td>0</td>\n",
              "      <td>0</td>\n",
              "      <td>0</td>\n",
              "      <td>0</td>\n",
              "      <td>0</td>\n",
              "      <td>0</td>\n",
              "      <td>0</td>\n",
              "      <td>0</td>\n",
              "      <td>0</td>\n",
              "      <td>0</td>\n",
              "      <td>0</td>\n",
              "      <td>...</td>\n",
              "      <td>0</td>\n",
              "      <td>0</td>\n",
              "      <td>0</td>\n",
              "      <td>0</td>\n",
              "      <td>0</td>\n",
              "      <td>0</td>\n",
              "      <td>0</td>\n",
              "      <td>0</td>\n",
              "      <td>0</td>\n",
              "      <td>0</td>\n",
              "      <td>0</td>\n",
              "      <td>0</td>\n",
              "      <td>0</td>\n",
              "      <td>0</td>\n",
              "      <td>0</td>\n",
              "      <td>0</td>\n",
              "      <td>0</td>\n",
              "      <td>0</td>\n",
              "      <td>0</td>\n",
              "      <td>0</td>\n",
              "      <td>0</td>\n",
              "      <td>0</td>\n",
              "      <td>0</td>\n",
              "      <td>0</td>\n",
              "      <td>0</td>\n",
              "      <td>0</td>\n",
              "      <td>0</td>\n",
              "      <td>0</td>\n",
              "      <td>0</td>\n",
              "      <td>0</td>\n",
              "      <td>0</td>\n",
              "      <td>0</td>\n",
              "      <td>0</td>\n",
              "      <td>0</td>\n",
              "      <td>0</td>\n",
              "      <td>0</td>\n",
              "      <td>0</td>\n",
              "      <td>0</td>\n",
              "      <td>0</td>\n",
              "      <td>0</td>\n",
              "    </tr>\n",
              "  </tbody>\n",
              "</table>\n",
              "<p>5 rows × 194 columns</p>\n",
              "</div>"
            ],
            "text/plain": [
              "                                                  fn  ...  obutungulu\n",
              "0  /content/drive/My Drive/ZINDI/data/audio_test/...  ...           0\n",
              "1  /content/drive/My Drive/ZINDI/data/audio_test/...  ...           0\n",
              "2  /content/drive/My Drive/ZINDI/data/audio_test/...  ...           0\n",
              "3  /content/drive/My Drive/ZINDI/data/audio_test/...  ...           0\n",
              "4  /content/drive/My Drive/ZINDI/data/audio_test/...  ...           0\n",
              "\n",
              "[5 rows x 194 columns]"
            ]
          },
          "metadata": {
            "tags": []
          },
          "execution_count": 24
        }
      ]
    },
    {
      "cell_type": "markdown",
      "metadata": {
        "id": "EFjUt0bw5wsm"
      },
      "source": [
        "# Get spectrograms"
      ]
    },
    {
      "cell_type": "code",
      "metadata": {
        "id": "1sHMnuSd5vj8"
      },
      "source": [
        "# Define the function\n",
        "\n",
        "def im_from_audio(fn, sample_rate=44100, window_length=0.05, window_step=0.0045, NFFT=2205):\n",
        "  \n",
        "  # Load the audio into an array (signal) at the specified sample rate\n",
        "  signal, sr = librosa.load(fn, sr=sample_rate)\n",
        "\n",
        "  # preemphasis\n",
        "  signal = psf.sigproc.preemphasis(signal, coeff=0.95)\n",
        "\n",
        "  # get specrogram\n",
        "  # Get the frames\n",
        "  frames = psf.sigproc.framesig(signal, \n",
        "                                  window_length*sample_rate, \n",
        "                                  window_step*sample_rate, \n",
        "                                  lambda x:np.ones((x,)))        # Window function \n",
        "    \n",
        "  # magnitude Spectrogram\n",
        "  spectrogram = np.rot90(psf.sigproc.magspec(frames, NFFT))\n",
        "  \n",
        "  # get rid of high frequencies\n",
        "  spectrogram = spectrogram[512:,:]\n",
        "\n",
        "  # normalize in [0, 1]\n",
        "  spectrogram -= spectrogram.min(axis=None)\n",
        "  spectrogram /= spectrogram.max(axis=None)        \n",
        "\n",
        "  # Clip to max 512, 512\n",
        "  spectrogram = spectrogram[:512, :512]\n",
        "  \n",
        "  return spectrogram \n"
      ],
      "execution_count": null,
      "outputs": []
    },
    {
      "cell_type": "markdown",
      "metadata": {
        "id": "yuGpf4p07oAS"
      },
      "source": [
        "1) Apply the function to the full_train data"
      ]
    },
    {
      "cell_type": "code",
      "metadata": {
        "id": "6lK7JK1S8bBO",
        "outputId": "59286fcd-f854-437e-d274-53145eb90e29",
        "colab": {
          "base_uri": "https://localhost:8080/"
        }
      },
      "source": [
        "im_from_audio(train_full.fn.sample().values[0])"
      ],
      "execution_count": null,
      "outputs": [
        {
          "output_type": "execute_result",
          "data": {
            "text/plain": [
              "array([[2.47481438e-05, 3.20675434e-05, 2.32169464e-05, ...,\n",
              "        2.91702498e-05, 2.28525370e-05, 2.42317890e-05],\n",
              "       [5.19229184e-05, 5.01928611e-05, 5.82445916e-05, ...,\n",
              "        1.72388321e-05, 5.01327798e-06, 1.23229928e-06],\n",
              "       [2.58894934e-05, 2.26804607e-05, 1.57010191e-05, ...,\n",
              "        2.02921967e-05, 1.99900172e-05, 1.55215957e-05],\n",
              "       ...,\n",
              "       [7.79127087e-05, 7.70650847e-05, 7.09717636e-05, ...,\n",
              "        6.51576797e-05, 6.25693344e-05, 3.95612505e-05],\n",
              "       [1.18042418e-04, 1.33327380e-04, 1.39966297e-04, ...,\n",
              "        1.97359049e-04, 1.25001400e-04, 1.56054030e-04],\n",
              "       [5.24854046e-05, 5.21433321e-05, 4.79042943e-05, ...,\n",
              "        1.44049083e-04, 1.23932688e-04, 1.12086592e-04]])"
            ]
          },
          "metadata": {
            "tags": []
          },
          "execution_count": 28
        }
      ]
    },
    {
      "cell_type": "code",
      "metadata": {
        "id": "uD3G15xz7qe4"
      },
      "source": [
        "# Load all files and transform them into spectograms\n",
        "for i in train_full.fn:\n",
        "  interim1 = i.replace('.wav', '')\n",
        "  interim2 = interim1.replace('/content/drive/My Drive/ZINDI/data/audio_train/', '') \n",
        "  name = '/content/drive/My Drive/ZINDI/data/spectrogram_train/' + interim2 + '-spectrogram.png'\n",
        "  plt.imsave(fname = name, arr = im_from_audio(i))"
      ],
      "execution_count": null,
      "outputs": []
    },
    {
      "cell_type": "markdown",
      "metadata": {
        "id": "15Yuq_iHEWLJ"
      },
      "source": [
        "Check if it worked:"
      ]
    },
    {
      "cell_type": "code",
      "metadata": {
        "id": "QOyhv86cDIcr",
        "outputId": "cfd5c9d4-6f27-402c-9778-cc9f731a6776",
        "colab": {
          "base_uri": "https://localhost:8080/"
        }
      },
      "source": [
        "# Access the file names in \"spectogram-train\"\n",
        "mypath = \"/content/drive/My Drive/ZINDI/data/spectrogram_train/\"\n",
        "files = [f for f in listdir(mypath) if isfile(join(mypath, f))]\n",
        "\n",
        "# Check for length\n",
        "len(files) # 4709 files in the spectogram-train folder"
      ],
      "execution_count": null,
      "outputs": [
        {
          "output_type": "execute_result",
          "data": {
            "text/plain": [
              "4709"
            ]
          },
          "metadata": {
            "tags": []
          },
          "execution_count": 20
        }
      ]
    },
    {
      "cell_type": "markdown",
      "metadata": {
        "id": "MJk5UbEV6IhV"
      },
      "source": [
        "2) Apply the function to the test (validation) data"
      ]
    },
    {
      "cell_type": "code",
      "metadata": {
        "id": "gc7ttvkq6R3T"
      },
      "source": [
        "# Load all files and transform them into spectograms\n",
        "for i in test.fn:\n",
        "  interim1 = i.replace('.wav', '')\n",
        "  interim2 = interim1.replace('/content/drive/My Drive/ZINDI/data/audio_test/', '') \n",
        "  name = '/content/drive/My Drive/ZINDI/data/spectrogram_test/' + interim2 + '-spectrogram.png'\n",
        "  plt.imsave(fname = name, arr = im_from_audio(i))"
      ],
      "execution_count": null,
      "outputs": []
    },
    {
      "cell_type": "markdown",
      "metadata": {
        "id": "nZqP3aKmI1te"
      },
      "source": [
        "Check if it worked:\n"
      ]
    },
    {
      "cell_type": "code",
      "metadata": {
        "id": "aie4zjYiIwGT",
        "outputId": "b8c44215-fe58-4290-c781-a46b10c4cfc3",
        "colab": {
          "base_uri": "https://localhost:8080/"
        }
      },
      "source": [
        "# Access the file names in \"spectogram-test\"\n",
        "mypath = \"/content/drive/My Drive/ZINDI/data/spectrogram_test/\"\n",
        "files = [f for f in listdir(mypath) if isfile(join(mypath, f))]\n",
        "\n",
        "# Check for length\n",
        "len(files) # 1017 files in the spectogram-test folder"
      ],
      "execution_count": null,
      "outputs": [
        {
          "output_type": "execute_result",
          "data": {
            "text/plain": [
              "1017"
            ]
          },
          "metadata": {
            "tags": []
          },
          "execution_count": 28
        }
      ]
    },
    {
      "cell_type": "markdown",
      "metadata": {
        "id": "ii3oCM9E53ZB"
      },
      "source": [
        "1) Apply the function to the old train data"
      ]
    },
    {
      "cell_type": "code",
      "metadata": {
        "id": "IXLI3UZT6BiN",
        "outputId": "dd90b02c-af44-4195-9046-f8706fcde736",
        "colab": {
          "base_uri": "https://localhost:8080/",
          "height": 358
        }
      },
      "source": [
        "##############################################\n",
        "#### HERE IS WHERE THE PROBLEM STARTED #######\n",
        "##############################################\n",
        "\n",
        "\n",
        "# Create directory\n",
        "\n",
        "# define the name of the directory to be created\n",
        "# path = \"/content/drive/My Drive/ZINDI/data/spectrogram_train/\"\n",
        "\n",
        "# os.mkdir(path)\n",
        "\n",
        "# Load all files and transform them into spectograms\n",
        "for i in train_full.fn:\n",
        "  interim1 = i.replace('.wav', '')\n",
        "  interim2 = interim1.replace('/content/drive/My Drive/ZINDI/data/audio_train/', '') \n",
        "  name = '/content/drive/My Drive/ZINDI/data/spectrogram_train/' + interim2 + '-spectrogram.png'\n",
        "  plt.imsave(fname = name, arr = im_from_audio(i))"
      ],
      "execution_count": null,
      "outputs": [
        {
          "output_type": "error",
          "ename": "FileNotFoundError",
          "evalue": "ignored",
          "traceback": [
            "\u001b[0;31m---------------------------------------------------------------------------\u001b[0m",
            "\u001b[0;31mFileNotFoundError\u001b[0m                         Traceback (most recent call last)",
            "\u001b[0;32m<ipython-input-117-1516c93f3a3e>\u001b[0m in \u001b[0;36m<module>\u001b[0;34m()\u001b[0m\n\u001b[1;32m     11\u001b[0m   \u001b[0minterim2\u001b[0m \u001b[0;34m=\u001b[0m \u001b[0minterim1\u001b[0m\u001b[0;34m.\u001b[0m\u001b[0mreplace\u001b[0m\u001b[0;34m(\u001b[0m\u001b[0;34m'/content/drive/My Drive/ZINDI/data/audio_train/'\u001b[0m\u001b[0;34m,\u001b[0m \u001b[0;34m''\u001b[0m\u001b[0;34m)\u001b[0m\u001b[0;34m\u001b[0m\u001b[0;34m\u001b[0m\u001b[0m\n\u001b[1;32m     12\u001b[0m   \u001b[0mname\u001b[0m \u001b[0;34m=\u001b[0m \u001b[0;34m'/content/drive/My Drive/ZINDI/data/spectrogram_train/'\u001b[0m \u001b[0;34m+\u001b[0m \u001b[0minterim2\u001b[0m \u001b[0;34m+\u001b[0m \u001b[0;34m'-spectrogram.png'\u001b[0m\u001b[0;34m\u001b[0m\u001b[0;34m\u001b[0m\u001b[0m\n\u001b[0;32m---> 13\u001b[0;31m   \u001b[0mplt\u001b[0m\u001b[0;34m.\u001b[0m\u001b[0mimsave\u001b[0m\u001b[0;34m(\u001b[0m\u001b[0mfname\u001b[0m \u001b[0;34m=\u001b[0m \u001b[0mname\u001b[0m\u001b[0;34m,\u001b[0m \u001b[0marr\u001b[0m \u001b[0;34m=\u001b[0m \u001b[0mim_from_audio\u001b[0m\u001b[0;34m(\u001b[0m\u001b[0mi\u001b[0m\u001b[0;34m)\u001b[0m\u001b[0;34m)\u001b[0m\u001b[0;34m\u001b[0m\u001b[0;34m\u001b[0m\u001b[0m\n\u001b[0m",
            "\u001b[0;32m<ipython-input-116-b3b337f23b7a>\u001b[0m in \u001b[0;36mim_from_audio\u001b[0;34m(fn, sample_rate, window_length, window_step, NFFT)\u001b[0m\n\u001b[1;32m      4\u001b[0m \u001b[0;34m\u001b[0m\u001b[0m\n\u001b[1;32m      5\u001b[0m   \u001b[0;31m# Load the audio into an array (signal) at the specified sample rate\u001b[0m\u001b[0;34m\u001b[0m\u001b[0;34m\u001b[0m\u001b[0;34m\u001b[0m\u001b[0m\n\u001b[0;32m----> 6\u001b[0;31m   \u001b[0msignal\u001b[0m\u001b[0;34m,\u001b[0m \u001b[0msr\u001b[0m \u001b[0;34m=\u001b[0m \u001b[0mlibrosa\u001b[0m\u001b[0;34m.\u001b[0m\u001b[0mload\u001b[0m\u001b[0;34m(\u001b[0m\u001b[0mfn\u001b[0m\u001b[0;34m,\u001b[0m \u001b[0msr\u001b[0m\u001b[0;34m=\u001b[0m\u001b[0msample_rate\u001b[0m\u001b[0;34m)\u001b[0m\u001b[0;34m\u001b[0m\u001b[0;34m\u001b[0m\u001b[0m\n\u001b[0m\u001b[1;32m      7\u001b[0m \u001b[0;34m\u001b[0m\u001b[0m\n\u001b[1;32m      8\u001b[0m   \u001b[0;31m# preemphasis\u001b[0m\u001b[0;34m\u001b[0m\u001b[0;34m\u001b[0m\u001b[0;34m\u001b[0m\u001b[0m\n",
            "\u001b[0;32m/usr/local/lib/python3.6/dist-packages/librosa/core/audio.py\u001b[0m in \u001b[0;36mload\u001b[0;34m(path, sr, mono, offset, duration, dtype, res_type)\u001b[0m\n\u001b[1;32m    117\u001b[0m \u001b[0;34m\u001b[0m\u001b[0m\n\u001b[1;32m    118\u001b[0m     \u001b[0my\u001b[0m \u001b[0;34m=\u001b[0m \u001b[0;34m[\u001b[0m\u001b[0;34m]\u001b[0m\u001b[0;34m\u001b[0m\u001b[0;34m\u001b[0m\u001b[0m\n\u001b[0;32m--> 119\u001b[0;31m     \u001b[0;32mwith\u001b[0m \u001b[0maudioread\u001b[0m\u001b[0;34m.\u001b[0m\u001b[0maudio_open\u001b[0m\u001b[0;34m(\u001b[0m\u001b[0mos\u001b[0m\u001b[0;34m.\u001b[0m\u001b[0mpath\u001b[0m\u001b[0;34m.\u001b[0m\u001b[0mrealpath\u001b[0m\u001b[0;34m(\u001b[0m\u001b[0mpath\u001b[0m\u001b[0;34m)\u001b[0m\u001b[0;34m)\u001b[0m \u001b[0;32mas\u001b[0m \u001b[0minput_file\u001b[0m\u001b[0;34m:\u001b[0m\u001b[0;34m\u001b[0m\u001b[0;34m\u001b[0m\u001b[0m\n\u001b[0m\u001b[1;32m    120\u001b[0m         \u001b[0msr_native\u001b[0m \u001b[0;34m=\u001b[0m \u001b[0minput_file\u001b[0m\u001b[0;34m.\u001b[0m\u001b[0msamplerate\u001b[0m\u001b[0;34m\u001b[0m\u001b[0;34m\u001b[0m\u001b[0m\n\u001b[1;32m    121\u001b[0m         \u001b[0mn_channels\u001b[0m \u001b[0;34m=\u001b[0m \u001b[0minput_file\u001b[0m\u001b[0;34m.\u001b[0m\u001b[0mchannels\u001b[0m\u001b[0;34m\u001b[0m\u001b[0;34m\u001b[0m\u001b[0m\n",
            "\u001b[0;32m/usr/local/lib/python3.6/dist-packages/audioread/__init__.py\u001b[0m in \u001b[0;36maudio_open\u001b[0;34m(path, backends)\u001b[0m\n\u001b[1;32m    109\u001b[0m     \u001b[0;32mfor\u001b[0m \u001b[0mBackendClass\u001b[0m \u001b[0;32min\u001b[0m \u001b[0mbackends\u001b[0m\u001b[0;34m:\u001b[0m\u001b[0;34m\u001b[0m\u001b[0;34m\u001b[0m\u001b[0m\n\u001b[1;32m    110\u001b[0m         \u001b[0;32mtry\u001b[0m\u001b[0;34m:\u001b[0m\u001b[0;34m\u001b[0m\u001b[0;34m\u001b[0m\u001b[0m\n\u001b[0;32m--> 111\u001b[0;31m             \u001b[0;32mreturn\u001b[0m \u001b[0mBackendClass\u001b[0m\u001b[0;34m(\u001b[0m\u001b[0mpath\u001b[0m\u001b[0;34m)\u001b[0m\u001b[0;34m\u001b[0m\u001b[0;34m\u001b[0m\u001b[0m\n\u001b[0m\u001b[1;32m    112\u001b[0m         \u001b[0;32mexcept\u001b[0m \u001b[0mDecodeError\u001b[0m\u001b[0;34m:\u001b[0m\u001b[0;34m\u001b[0m\u001b[0;34m\u001b[0m\u001b[0m\n\u001b[1;32m    113\u001b[0m             \u001b[0;32mpass\u001b[0m\u001b[0;34m\u001b[0m\u001b[0;34m\u001b[0m\u001b[0m\n",
            "\u001b[0;32m/usr/local/lib/python3.6/dist-packages/audioread/rawread.py\u001b[0m in \u001b[0;36m__init__\u001b[0;34m(self, filename)\u001b[0m\n\u001b[1;32m     60\u001b[0m     \"\"\"\n\u001b[1;32m     61\u001b[0m     \u001b[0;32mdef\u001b[0m \u001b[0m__init__\u001b[0m\u001b[0;34m(\u001b[0m\u001b[0mself\u001b[0m\u001b[0;34m,\u001b[0m \u001b[0mfilename\u001b[0m\u001b[0;34m)\u001b[0m\u001b[0;34m:\u001b[0m\u001b[0;34m\u001b[0m\u001b[0;34m\u001b[0m\u001b[0m\n\u001b[0;32m---> 62\u001b[0;31m         \u001b[0mself\u001b[0m\u001b[0;34m.\u001b[0m\u001b[0m_fh\u001b[0m \u001b[0;34m=\u001b[0m \u001b[0mopen\u001b[0m\u001b[0;34m(\u001b[0m\u001b[0mfilename\u001b[0m\u001b[0;34m,\u001b[0m \u001b[0;34m'rb'\u001b[0m\u001b[0;34m)\u001b[0m\u001b[0;34m\u001b[0m\u001b[0;34m\u001b[0m\u001b[0m\n\u001b[0m\u001b[1;32m     63\u001b[0m \u001b[0;34m\u001b[0m\u001b[0m\n\u001b[1;32m     64\u001b[0m         \u001b[0;32mtry\u001b[0m\u001b[0;34m:\u001b[0m\u001b[0;34m\u001b[0m\u001b[0;34m\u001b[0m\u001b[0m\n",
            "\u001b[0;31mFileNotFoundError\u001b[0m: [Errno 2] No such file or directory: '/content/drive/.shortcut-targets-by-id/1n4zOzv7F_H8VripWu7cqiTjn1fDGQdWp/ZINDI/data/audio_train/ARDA2MU.wav'"
          ]
        }
      ]
    },
    {
      "cell_type": "markdown",
      "metadata": {
        "id": "wdJFv8lQ6CVP"
      },
      "source": [
        "2) Apply the function to the new train data"
      ]
    },
    {
      "cell_type": "code",
      "metadata": {
        "id": "HbnxaRof6EJ3"
      },
      "source": [
        "for i in train2.fn:\n",
        "  interim1 = i.replace('.wav', '')\n",
        "  interim2 = interim1.replace('audio_files2/', '')\n",
        "  name = '/content/drive/My Drive/spectogram/' + interim2 + '-spectogram.png'\n",
        "  plt.imsave(fname = name, arr = im_from_audio(i))"
      ],
      "execution_count": null,
      "outputs": []
    },
    {
      "cell_type": "markdown",
      "metadata": {
        "id": "UwfdR24u6Fav"
      },
      "source": [
        "3) Apply the function to the augmented data"
      ]
    },
    {
      "cell_type": "code",
      "metadata": {
        "id": "ELmh1Qc16IPH"
      },
      "source": [
        "# Load all files and transform them into spectograms\n",
        "for i in testaugmented.fn:\n",
        "  interim1 = i.replace('.wav', '')\n",
        "  interim2 = interim1.replace('audio_files/', '') \n",
        "  name = '/content/drive/My Drive/spectogram-test/' + interim2 + '-spectogram.png'\n",
        "  plt.imsave(fname = name, arr = im_from_audio(i))"
      ],
      "execution_count": null,
      "outputs": []
    },
    {
      "cell_type": "markdown",
      "metadata": {
        "id": "mXzoQIrw6Tjg"
      },
      "source": [
        "We first thought that there were some files missing in the test data spectrograms -- but there weren't. Here's just the code that we used for validation."
      ]
    },
    {
      "cell_type": "code",
      "metadata": {
        "id": "2Vpd7xZC6a-i",
        "outputId": "013aad72-e02c-47ef-ac6d-bcc06d48d056",
        "colab": {
          "base_uri": "https://localhost:8080/",
          "height": 232
        }
      },
      "source": [
        "# Check for the missing names in the validation (test) data set\n",
        "\n",
        "# Access the file names in \"spectogram-test\"\n",
        "mypath = \"/content/drive/My Drive/spectogram-test\"\n",
        "files = [f for f in os.listdir(mypath) if isfile(join(mypath, f))]\n",
        "\n",
        "# Check for length\n",
        "len(files) # 1017 files in the spectogram-test folder\n",
        "\n",
        "# Load test data\n",
        "test = pd.read_csv('drive/My Drive/SampleSubmission.csv')\n",
        "\n",
        "# Check for the names in the validation (test) data set\n",
        "# 1) Generate interim name where we replace .wav with ''\n",
        "interim1 = test['fn'].str.replace('.wav', '')\n",
        "# 2) Generate interim where we then replace \"audio_files/\" with '' \n",
        "# (I couldn't bring it into one single line of code...)\n",
        "interim2 = interim1.str.replace('audio_files/', '') \n",
        "# Combine both interim2 with \"spectogram.png\" \n",
        "# (to make both name similar to \"files\")\n",
        "name = interim2 + \"-spectogram.png\"\n",
        "\n",
        "# Check for length\n",
        "len(name) # 1017 names in the validation (test) data set"
      ],
      "execution_count": null,
      "outputs": [
        {
          "output_type": "error",
          "ename": "NameError",
          "evalue": "ignored",
          "traceback": [
            "\u001b[0;31m---------------------------------------------------------------------------\u001b[0m",
            "\u001b[0;31mNameError\u001b[0m                                 Traceback (most recent call last)",
            "\u001b[0;32m<ipython-input-1-55e00fdad7c0>\u001b[0m in \u001b[0;36m<module>\u001b[0;34m()\u001b[0m\n\u001b[1;32m      3\u001b[0m \u001b[0;31m# Access the file names in \"spectogram-test\"\u001b[0m\u001b[0;34m\u001b[0m\u001b[0;34m\u001b[0m\u001b[0;34m\u001b[0m\u001b[0m\n\u001b[1;32m      4\u001b[0m \u001b[0mmypath\u001b[0m \u001b[0;34m=\u001b[0m \u001b[0;34m\"/content/drive/My Drive/ZINDI/data/spectogram-train\"\u001b[0m\u001b[0;34m\u001b[0m\u001b[0;34m\u001b[0m\u001b[0m\n\u001b[0;32m----> 5\u001b[0;31m \u001b[0mfiles\u001b[0m \u001b[0;34m=\u001b[0m \u001b[0;34m[\u001b[0m\u001b[0mf\u001b[0m \u001b[0;32mfor\u001b[0m \u001b[0mf\u001b[0m \u001b[0;32min\u001b[0m \u001b[0mlistdir\u001b[0m\u001b[0;34m(\u001b[0m\u001b[0mmypath\u001b[0m\u001b[0;34m)\u001b[0m \u001b[0;32mif\u001b[0m \u001b[0misfile\u001b[0m\u001b[0;34m(\u001b[0m\u001b[0mjoin\u001b[0m\u001b[0;34m(\u001b[0m\u001b[0mmypath\u001b[0m\u001b[0;34m,\u001b[0m \u001b[0mf\u001b[0m\u001b[0;34m)\u001b[0m\u001b[0;34m)\u001b[0m\u001b[0;34m]\u001b[0m\u001b[0;34m\u001b[0m\u001b[0;34m\u001b[0m\u001b[0m\n\u001b[0m\u001b[1;32m      6\u001b[0m \u001b[0;34m\u001b[0m\u001b[0m\n\u001b[1;32m      7\u001b[0m \u001b[0;31m# Check for length\u001b[0m\u001b[0;34m\u001b[0m\u001b[0;34m\u001b[0m\u001b[0;34m\u001b[0m\u001b[0m\n",
            "\u001b[0;31mNameError\u001b[0m: name 'listdir' is not defined"
          ]
        }
      ]
    }
  ]
}